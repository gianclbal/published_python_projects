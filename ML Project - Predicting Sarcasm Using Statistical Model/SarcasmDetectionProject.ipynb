{
 "cells": [
  {
   "cell_type": "code",
   "execution_count": 2,
   "id": "a4d7fed7-c9c2-45ac-8618-4c736b5f127a",
   "metadata": {},
   "outputs": [],
   "source": [
    "import pandas as pd\n",
    "import numpy as np"
   ]
  },
  {
   "cell_type": "markdown",
   "id": "a1af97ad-3765-4d6e-b3f4-6917d9c01704",
   "metadata": {},
   "source": [
    "## Prepare and load training and testing datasets"
   ]
  },
  {
   "cell_type": "code",
   "execution_count": 3,
   "id": "280a5ed0-ec1f-404c-b434-351c2ff049e4",
   "metadata": {
    "scrolled": true,
    "tags": []
   },
   "outputs": [
    {
     "data": {
      "text/html": [
       "<div>\n",
       "<style scoped>\n",
       "    .dataframe tbody tr th:only-of-type {\n",
       "        vertical-align: middle;\n",
       "    }\n",
       "\n",
       "    .dataframe tbody tr th {\n",
       "        vertical-align: top;\n",
       "    }\n",
       "\n",
       "    .dataframe thead th {\n",
       "        text-align: right;\n",
       "    }\n",
       "</style>\n",
       "<table border=\"1\" class=\"dataframe\">\n",
       "  <thead>\n",
       "    <tr style=\"text-align: right;\">\n",
       "      <th></th>\n",
       "      <th>headline</th>\n",
       "      <th>is_sarcastic</th>\n",
       "    </tr>\n",
       "  </thead>\n",
       "  <tbody>\n",
       "    <tr>\n",
       "      <th>0</th>\n",
       "      <td>supreme court votes 7-2 to legalize all worldly vices</td>\n",
       "      <td>1</td>\n",
       "    </tr>\n",
       "    <tr>\n",
       "      <th>1</th>\n",
       "      <td>hungover man horrified to learn he made dozens of plans last night</td>\n",
       "      <td>1</td>\n",
       "    </tr>\n",
       "    <tr>\n",
       "      <th>2</th>\n",
       "      <td>emily's list founder: women are the 'problem solvers' in congress</td>\n",
       "      <td>0</td>\n",
       "    </tr>\n",
       "    <tr>\n",
       "      <th>3</th>\n",
       "      <td>send your kids back to school with confidence</td>\n",
       "      <td>0</td>\n",
       "    </tr>\n",
       "    <tr>\n",
       "      <th>4</th>\n",
       "      <td>watch: experts talk pesticides and health</td>\n",
       "      <td>0</td>\n",
       "    </tr>\n",
       "    <tr>\n",
       "      <th>5</th>\n",
       "      <td>james corden and the red hot chili peppers strip down for 'carpool karaoke'</td>\n",
       "      <td>0</td>\n",
       "    </tr>\n",
       "    <tr>\n",
       "      <th>6</th>\n",
       "      <td>u.s. dignity reserves nearly depleted</td>\n",
       "      <td>1</td>\n",
       "    </tr>\n",
       "    <tr>\n",
       "      <th>7</th>\n",
       "      <td>how to re-ignite the spark in your body, mind and soul</td>\n",
       "      <td>0</td>\n",
       "    </tr>\n",
       "    <tr>\n",
       "      <th>8</th>\n",
       "      <td>report: there still time to convert to christianity before christmas starts</td>\n",
       "      <td>1</td>\n",
       "    </tr>\n",
       "    <tr>\n",
       "      <th>9</th>\n",
       "      <td>education reform and evidence</td>\n",
       "      <td>0</td>\n",
       "    </tr>\n",
       "    <tr>\n",
       "      <th>10</th>\n",
       "      <td>kid honors grandpa's memory with solemn cannonball</td>\n",
       "      <td>1</td>\n",
       "    </tr>\n",
       "    <tr>\n",
       "      <th>11</th>\n",
       "      <td>ragnar from 'vikings' is going where? creator talks season 3</td>\n",
       "      <td>0</td>\n",
       "    </tr>\n",
       "    <tr>\n",
       "      <th>12</th>\n",
       "      <td>pope died as he lived: propped up for public viewing</td>\n",
       "      <td>1</td>\n",
       "    </tr>\n",
       "    <tr>\n",
       "      <th>13</th>\n",
       "      <td>documentary about plymouth rock throws in some world war ii to keep people interested</td>\n",
       "      <td>1</td>\n",
       "    </tr>\n",
       "    <tr>\n",
       "      <th>14</th>\n",
       "      <td>jews, muslims, hindus agree on chicken</td>\n",
       "      <td>1</td>\n",
       "    </tr>\n",
       "    <tr>\n",
       "      <th>15</th>\n",
       "      <td>the new new net neutrality</td>\n",
       "      <td>0</td>\n",
       "    </tr>\n",
       "    <tr>\n",
       "      <th>16</th>\n",
       "      <td>white house struggled with asian leaders names and countries at g-20</td>\n",
       "      <td>0</td>\n",
       "    </tr>\n",
       "    <tr>\n",
       "      <th>17</th>\n",
       "      <td>see chris hemsworth in his 'ghostbusters' uniform</td>\n",
       "      <td>0</td>\n",
       "    </tr>\n",
       "    <tr>\n",
       "      <th>18</th>\n",
       "      <td>should you marry that guy?</td>\n",
       "      <td>0</td>\n",
       "    </tr>\n",
       "    <tr>\n",
       "      <th>19</th>\n",
       "      <td>parents drop fake treating-you-like-an-adult act half-hour into visit</td>\n",
       "      <td>1</td>\n",
       "    </tr>\n",
       "    <tr>\n",
       "      <th>20</th>\n",
       "      <td>excercise ball all the way over there</td>\n",
       "      <td>1</td>\n",
       "    </tr>\n",
       "    <tr>\n",
       "      <th>21</th>\n",
       "      <td>20 people found refuge in a famous paris bookstore during attacks</td>\n",
       "      <td>0</td>\n",
       "    </tr>\n",
       "    <tr>\n",
       "      <th>22</th>\n",
       "      <td>actress leaves porn past behind with new cinemax erotic thriller</td>\n",
       "      <td>1</td>\n",
       "    </tr>\n",
       "    <tr>\n",
       "      <th>23</th>\n",
       "      <td>kylie jenner and tyga got way handsy in the club like no one was snapchatting</td>\n",
       "      <td>0</td>\n",
       "    </tr>\n",
       "    <tr>\n",
       "      <th>24</th>\n",
       "      <td>transgender lawmaker danica roem: trump shows there's 'no barrier' to getting elected</td>\n",
       "      <td>0</td>\n",
       "    </tr>\n",
       "    <tr>\n",
       "      <th>25</th>\n",
       "      <td>hoodie monks' use hip hop to impart buddhist wisdom</td>\n",
       "      <td>0</td>\n",
       "    </tr>\n",
       "    <tr>\n",
       "      <th>26</th>\n",
       "      <td>concerned parents demand removal of arsenic from periodic table of elements</td>\n",
       "      <td>1</td>\n",
       "    </tr>\n",
       "    <tr>\n",
       "      <th>27</th>\n",
       "      <td>confused zoo officials awkwardly celebrate after endangered panda gives birth to healthy northern white rhino</td>\n",
       "      <td>1</td>\n",
       "    </tr>\n",
       "    <tr>\n",
       "      <th>28</th>\n",
       "      <td>lauren graham just dropped a clue about those final 4 'gilmore girls' words</td>\n",
       "      <td>0</td>\n",
       "    </tr>\n",
       "    <tr>\n",
       "      <th>29</th>\n",
       "      <td>hero dog fills out hospital paperwork</td>\n",
       "      <td>1</td>\n",
       "    </tr>\n",
       "    <tr>\n",
       "      <th>30</th>\n",
       "      <td>logo of smiling cartoon tooth holding brush inspires nothing but confidence in local oral surgeon</td>\n",
       "      <td>1</td>\n",
       "    </tr>\n",
       "    <tr>\n",
       "      <th>31</th>\n",
       "      <td>matt shepard is a friend of mine,' and my son</td>\n",
       "      <td>0</td>\n",
       "    </tr>\n",
       "    <tr>\n",
       "      <th>32</th>\n",
       "      <td>doctors restore ken burns' full-color vision after removing massive tumor from filmmaker's visual cortex</td>\n",
       "      <td>1</td>\n",
       "    </tr>\n",
       "    <tr>\n",
       "      <th>33</th>\n",
       "      <td>student constructs wedding dress out of divorce papers</td>\n",
       "      <td>0</td>\n",
       "    </tr>\n",
       "    <tr>\n",
       "      <th>34</th>\n",
       "      <td>trump boys leave $5 bill, candy bar under propped-up laundry basket in effort to catch op-ed writer</td>\n",
       "      <td>1</td>\n",
       "    </tr>\n",
       "    <tr>\n",
       "      <th>35</th>\n",
       "      <td>vladimir putin, florida man, arrested for trespassing at supermarket</td>\n",
       "      <td>0</td>\n",
       "    </tr>\n",
       "    <tr>\n",
       "      <th>36</th>\n",
       "      <td>trump turns on fox news and tells aides to make whatever they're saying a law</td>\n",
       "      <td>1</td>\n",
       "    </tr>\n",
       "    <tr>\n",
       "      <th>37</th>\n",
       "      <td>big news: the gop has a plan to make a plan to replace obamacare</td>\n",
       "      <td>0</td>\n",
       "    </tr>\n",
       "    <tr>\n",
       "      <th>38</th>\n",
       "      <td>media company looking for ways to get rid of veteran 24-year-old employee</td>\n",
       "      <td>1</td>\n",
       "    </tr>\n",
       "    <tr>\n",
       "      <th>39</th>\n",
       "      <td>friday's morning email: charleston gunman planned attack for months</td>\n",
       "      <td>0</td>\n",
       "    </tr>\n",
       "    <tr>\n",
       "      <th>40</th>\n",
       "      <td>nation would not be surprised at this point if chris brown allegedly traveled back in time and punched anne frank</td>\n",
       "      <td>1</td>\n",
       "    </tr>\n",
       "    <tr>\n",
       "      <th>41</th>\n",
       "      <td>man at point where thought of reince priebus controlling white house pretty comforting</td>\n",
       "      <td>1</td>\n",
       "    </tr>\n",
       "    <tr>\n",
       "      <th>42</th>\n",
       "      <td>heartbreaking rubio campaign email just asks supporters to send something to make him smile</td>\n",
       "      <td>1</td>\n",
       "    </tr>\n",
       "    <tr>\n",
       "      <th>43</th>\n",
       "      <td>this labor day let's rethink the texas miracle</td>\n",
       "      <td>0</td>\n",
       "    </tr>\n",
       "    <tr>\n",
       "      <th>44</th>\n",
       "      <td>celebrities send love to london with touching social media messages</td>\n",
       "      <td>0</td>\n",
       "    </tr>\n",
       "    <tr>\n",
       "      <th>45</th>\n",
       "      <td>icy snowball can already tell it going to make 9-year-old cry</td>\n",
       "      <td>1</td>\n",
       "    </tr>\n",
       "    <tr>\n",
       "      <th>46</th>\n",
       "      <td>bible only work of fiction in family's home</td>\n",
       "      <td>1</td>\n",
       "    </tr>\n",
       "    <tr>\n",
       "      <th>47</th>\n",
       "      <td>epa rolls back emissions standards to increase consumer choice over type of apocalyptic hellscape earth will become</td>\n",
       "      <td>1</td>\n",
       "    </tr>\n",
       "    <tr>\n",
       "      <th>48</th>\n",
       "      <td>trevor noah mocks republican conspiracy theories on russian probe</td>\n",
       "      <td>0</td>\n",
       "    </tr>\n",
       "    <tr>\n",
       "      <th>49</th>\n",
       "      <td>gop throws all financial support behind one candidate</td>\n",
       "      <td>1</td>\n",
       "    </tr>\n",
       "  </tbody>\n",
       "</table>\n",
       "</div>"
      ],
      "text/plain": [
       "                                                                                                               headline  \\\n",
       "0                                                                 supreme court votes 7-2 to legalize all worldly vices   \n",
       "1                                                    hungover man horrified to learn he made dozens of plans last night   \n",
       "2                                                     emily's list founder: women are the 'problem solvers' in congress   \n",
       "3                                                                         send your kids back to school with confidence   \n",
       "4                                                                             watch: experts talk pesticides and health   \n",
       "5                                           james corden and the red hot chili peppers strip down for 'carpool karaoke'   \n",
       "6                                                                                 u.s. dignity reserves nearly depleted   \n",
       "7                                                                how to re-ignite the spark in your body, mind and soul   \n",
       "8                                           report: there still time to convert to christianity before christmas starts   \n",
       "9                                                                                         education reform and evidence   \n",
       "10                                                                   kid honors grandpa's memory with solemn cannonball   \n",
       "11                                                         ragnar from 'vikings' is going where? creator talks season 3   \n",
       "12                                                                 pope died as he lived: propped up for public viewing   \n",
       "13                                documentary about plymouth rock throws in some world war ii to keep people interested   \n",
       "14                                                                               jews, muslims, hindus agree on chicken   \n",
       "15                                                                                           the new new net neutrality   \n",
       "16                                                 white house struggled with asian leaders names and countries at g-20   \n",
       "17                                                                    see chris hemsworth in his 'ghostbusters' uniform   \n",
       "18                                                                                           should you marry that guy?   \n",
       "19                                                parents drop fake treating-you-like-an-adult act half-hour into visit   \n",
       "20                                                                                excercise ball all the way over there   \n",
       "21                                                    20 people found refuge in a famous paris bookstore during attacks   \n",
       "22                                                     actress leaves porn past behind with new cinemax erotic thriller   \n",
       "23                                        kylie jenner and tyga got way handsy in the club like no one was snapchatting   \n",
       "24                                transgender lawmaker danica roem: trump shows there's 'no barrier' to getting elected   \n",
       "25                                                                  hoodie monks' use hip hop to impart buddhist wisdom   \n",
       "26                                          concerned parents demand removal of arsenic from periodic table of elements   \n",
       "27        confused zoo officials awkwardly celebrate after endangered panda gives birth to healthy northern white rhino   \n",
       "28                                          lauren graham just dropped a clue about those final 4 'gilmore girls' words   \n",
       "29                                                                                hero dog fills out hospital paperwork   \n",
       "30                    logo of smiling cartoon tooth holding brush inspires nothing but confidence in local oral surgeon   \n",
       "31                                                                        matt shepard is a friend of mine,' and my son   \n",
       "32             doctors restore ken burns' full-color vision after removing massive tumor from filmmaker's visual cortex   \n",
       "33                                                               student constructs wedding dress out of divorce papers   \n",
       "34                  trump boys leave $5 bill, candy bar under propped-up laundry basket in effort to catch op-ed writer   \n",
       "35                                                 vladimir putin, florida man, arrested for trespassing at supermarket   \n",
       "36                                        trump turns on fox news and tells aides to make whatever they're saying a law   \n",
       "37                                                     big news: the gop has a plan to make a plan to replace obamacare   \n",
       "38                                            media company looking for ways to get rid of veteran 24-year-old employee   \n",
       "39                                                  friday's morning email: charleston gunman planned attack for months   \n",
       "40    nation would not be surprised at this point if chris brown allegedly traveled back in time and punched anne frank   \n",
       "41                               man at point where thought of reince priebus controlling white house pretty comforting   \n",
       "42                          heartbreaking rubio campaign email just asks supporters to send something to make him smile   \n",
       "43                                                                       this labor day let's rethink the texas miracle   \n",
       "44                                                  celebrities send love to london with touching social media messages   \n",
       "45                                                        icy snowball can already tell it going to make 9-year-old cry   \n",
       "46                                                                          bible only work of fiction in family's home   \n",
       "47  epa rolls back emissions standards to increase consumer choice over type of apocalyptic hellscape earth will become   \n",
       "48                                                    trevor noah mocks republican conspiracy theories on russian probe   \n",
       "49                                                                gop throws all financial support behind one candidate   \n",
       "\n",
       "    is_sarcastic  \n",
       "0              1  \n",
       "1              1  \n",
       "2              0  \n",
       "3              0  \n",
       "4              0  \n",
       "5              0  \n",
       "6              1  \n",
       "7              0  \n",
       "8              1  \n",
       "9              0  \n",
       "10             1  \n",
       "11             0  \n",
       "12             1  \n",
       "13             1  \n",
       "14             1  \n",
       "15             0  \n",
       "16             0  \n",
       "17             0  \n",
       "18             0  \n",
       "19             1  \n",
       "20             1  \n",
       "21             0  \n",
       "22             1  \n",
       "23             0  \n",
       "24             0  \n",
       "25             0  \n",
       "26             1  \n",
       "27             1  \n",
       "28             0  \n",
       "29             1  \n",
       "30             1  \n",
       "31             0  \n",
       "32             1  \n",
       "33             0  \n",
       "34             1  \n",
       "35             0  \n",
       "36             1  \n",
       "37             0  \n",
       "38             1  \n",
       "39             0  \n",
       "40             1  \n",
       "41             1  \n",
       "42             1  \n",
       "43             0  \n",
       "44             0  \n",
       "45             1  \n",
       "46             1  \n",
       "47             1  \n",
       "48             0  \n",
       "49             1  "
      ]
     },
     "execution_count": 3,
     "metadata": {},
     "output_type": "execute_result"
    }
   ],
   "source": [
    "pd.options.display.max_colwidth = 150\n",
    "\n",
    "train_set = pd.read_csv(\"Train_Dataset.csv\")\n",
    "\n",
    "\n",
    "test_set = pd.read_csv(\"Test_Dataset.csv\")\n",
    "train_set.head(50)"
   ]
  },
  {
   "cell_type": "code",
   "execution_count": 4,
   "id": "0b620a5d-8e78-426b-94d7-c16712060536",
   "metadata": {},
   "outputs": [
    {
     "data": {
      "text/plain": [
       "headline        0\n",
       "is_sarcastic    0\n",
       "dtype: int64"
      ]
     },
     "execution_count": 4,
     "metadata": {},
     "output_type": "execute_result"
    }
   ],
   "source": [
    "#Checking for na values\n",
    "train_set.isnull().sum()"
   ]
  },
  {
   "cell_type": "code",
   "execution_count": 5,
   "id": "c20223ee-f4bd-4cd7-9312-32301920d003",
   "metadata": {},
   "outputs": [
    {
     "data": {
      "text/plain": [
       "(44262, 2)"
      ]
     },
     "execution_count": 5,
     "metadata": {},
     "output_type": "execute_result"
    }
   ],
   "source": [
    "train_set['is_sarcastic'].value_counts()\n",
    "train_set.shape"
   ]
  },
  {
   "cell_type": "code",
   "execution_count": 6,
   "id": "338a0cd2-ab29-4fce-b7eb-c811766f0480",
   "metadata": {},
   "outputs": [
    {
     "data": {
      "text/plain": [
       "(11066, 1)"
      ]
     },
     "execution_count": 6,
     "metadata": {},
     "output_type": "execute_result"
    }
   ],
   "source": [
    "test_set.shape"
   ]
  },
  {
   "cell_type": "markdown",
   "id": "bda45af3-03ae-4cec-b938-11af00cb244b",
   "metadata": {},
   "source": [
    "This means that about 54% of the data is non-sarcastic and 46% sarcastic."
   ]
  },
  {
   "cell_type": "markdown",
   "id": "7c3ac6d8-c03e-4a45-8673-ba4d592c5df0",
   "metadata": {},
   "source": [
    "## Split datasets"
   ]
  },
  {
   "cell_type": "code",
   "execution_count": 7,
   "id": "fee8a6c1-c79e-45bb-9197-70a6b133589a",
   "metadata": {},
   "outputs": [
    {
     "data": {
      "text/plain": [
       "(29655, 1)"
      ]
     },
     "execution_count": 7,
     "metadata": {},
     "output_type": "execute_result"
    }
   ],
   "source": [
    "from sklearn.model_selection import train_test_split\n",
    "\n",
    "X = train_set[['headline']]\n",
    "y = train_set['is_sarcastic']\n",
    "\n",
    "X_train, X_test, y_train, y_test = train_test_split(X, y, test_size=0.33, random_state=42)\n",
    "X_train.shape"
   ]
  },
  {
   "cell_type": "markdown",
   "id": "d31b5224-20d3-455b-9319-9e74f3f7a945",
   "metadata": {},
   "source": [
    "From the corpus, we will extract the following from each document:\n",
    "* Word count - total number of words in the doc/headline\n",
    "* Character count - total number of characters in the doc/headline\n",
    "* Average word density - mean length of words in the doc"
   ]
  },
  {
   "cell_type": "code",
   "execution_count": 8,
   "id": "3cdea851-cfc6-438a-8d81-11f68a460bbc",
   "metadata": {},
   "outputs": [
    {
     "name": "stderr",
     "output_type": "stream",
     "text": [
      "/Users/gbaldonado/opt/anaconda3/envs/dphi_bootcamp_nlp/lib/python3.7/site-packages/ipykernel_launcher.py:3: SettingWithCopyWarning: \n",
      "A value is trying to be set on a copy of a slice from a DataFrame.\n",
      "Try using .loc[row_indexer,col_indexer] = value instead\n",
      "\n",
      "See the caveats in the documentation: http://pandas.pydata.org/pandas-docs/stable/indexing.html#indexing-view-versus-copy\n",
      "  This is separate from the ipykernel package so we can avoid doing imports until\n",
      "/Users/gbaldonado/opt/anaconda3/envs/dphi_bootcamp_nlp/lib/python3.7/site-packages/ipykernel_launcher.py:4: SettingWithCopyWarning: \n",
      "A value is trying to be set on a copy of a slice from a DataFrame.\n",
      "Try using .loc[row_indexer,col_indexer] = value instead\n",
      "\n",
      "See the caveats in the documentation: http://pandas.pydata.org/pandas-docs/stable/indexing.html#indexing-view-versus-copy\n",
      "  after removing the cwd from sys.path.\n",
      "/Users/gbaldonado/opt/anaconda3/envs/dphi_bootcamp_nlp/lib/python3.7/site-packages/ipykernel_launcher.py:5: SettingWithCopyWarning: \n",
      "A value is trying to be set on a copy of a slice from a DataFrame.\n",
      "Try using .loc[row_indexer,col_indexer] = value instead\n",
      "\n",
      "See the caveats in the documentation: http://pandas.pydata.org/pandas-docs/stable/indexing.html#indexing-view-versus-copy\n",
      "  \"\"\"\n",
      "/Users/gbaldonado/opt/anaconda3/envs/dphi_bootcamp_nlp/lib/python3.7/site-packages/ipykernel_launcher.py:7: SettingWithCopyWarning: \n",
      "A value is trying to be set on a copy of a slice from a DataFrame.\n",
      "Try using .loc[row_indexer,col_indexer] = value instead\n",
      "\n",
      "See the caveats in the documentation: http://pandas.pydata.org/pandas-docs/stable/indexing.html#indexing-view-versus-copy\n",
      "  import sys\n",
      "/Users/gbaldonado/opt/anaconda3/envs/dphi_bootcamp_nlp/lib/python3.7/site-packages/ipykernel_launcher.py:8: SettingWithCopyWarning: \n",
      "A value is trying to be set on a copy of a slice from a DataFrame.\n",
      "Try using .loc[row_indexer,col_indexer] = value instead\n",
      "\n",
      "See the caveats in the documentation: http://pandas.pydata.org/pandas-docs/stable/indexing.html#indexing-view-versus-copy\n",
      "  \n",
      "/Users/gbaldonado/opt/anaconda3/envs/dphi_bootcamp_nlp/lib/python3.7/site-packages/ipykernel_launcher.py:9: SettingWithCopyWarning: \n",
      "A value is trying to be set on a copy of a slice from a DataFrame.\n",
      "Try using .loc[row_indexer,col_indexer] = value instead\n",
      "\n",
      "See the caveats in the documentation: http://pandas.pydata.org/pandas-docs/stable/indexing.html#indexing-view-versus-copy\n",
      "  if __name__ == '__main__':\n"
     ]
    }
   ],
   "source": [
    "import string\n",
    "\n",
    "X_train['char_count'] = X_train['headline'].apply(len)\n",
    "X_train['word_count'] = X_train['headline'].apply(lambda x: len(x.split()))\n",
    "X_train['word_density'] = X_train['char_count'] / (X_train['word_count']+1)\n",
    "\n",
    "X_test['char_count'] = X_test['headline'].apply(len)\n",
    "X_test['word_count'] = X_test['headline'].apply(lambda x: len(x.split()))\n",
    "X_test['word_density'] = X_test['char_count'] / (X_test['word_count']+1)\n",
    "\n",
    "# X_train['punctuation_count'] = X_train['headline'].apply(lambda x: len(\"\".join(char for char in x if char in string.punctuation)))\n",
    "# X_train['upper_case'] = X_train['headline'].apply(lambda x: len([word for word in x.split() if word.isupper()]))\n",
    "# X_train['title_word_count'] = X_train['headline'].apply(lambda x: len([wrd for wrd in x.split() if wrd.istitle()]))"
   ]
  },
  {
   "cell_type": "code",
   "execution_count": 9,
   "id": "edea161d-07e8-4c2e-8327-ccebe28d1472",
   "metadata": {},
   "outputs": [
    {
     "data": {
      "text/html": [
       "<div>\n",
       "<style scoped>\n",
       "    .dataframe tbody tr th:only-of-type {\n",
       "        vertical-align: middle;\n",
       "    }\n",
       "\n",
       "    .dataframe tbody tr th {\n",
       "        vertical-align: top;\n",
       "    }\n",
       "\n",
       "    .dataframe thead th {\n",
       "        text-align: right;\n",
       "    }\n",
       "</style>\n",
       "<table border=\"1\" class=\"dataframe\">\n",
       "  <thead>\n",
       "    <tr style=\"text-align: right;\">\n",
       "      <th></th>\n",
       "      <th>headline</th>\n",
       "      <th>char_count</th>\n",
       "      <th>word_count</th>\n",
       "      <th>word_density</th>\n",
       "    </tr>\n",
       "  </thead>\n",
       "  <tbody>\n",
       "    <tr>\n",
       "      <th>22779</th>\n",
       "      <td>google introduces a new way to screen telemarketers</td>\n",
       "      <td>51</td>\n",
       "      <td>8</td>\n",
       "      <td>5.666667</td>\n",
       "    </tr>\n",
       "    <tr>\n",
       "      <th>39644</th>\n",
       "      <td>the true meaning of the ray rice scandal</td>\n",
       "      <td>40</td>\n",
       "      <td>8</td>\n",
       "      <td>4.444444</td>\n",
       "    </tr>\n",
       "    <tr>\n",
       "      <th>423</th>\n",
       "      <td>a christmas message to vice president mike pence</td>\n",
       "      <td>48</td>\n",
       "      <td>8</td>\n",
       "      <td>5.333333</td>\n",
       "    </tr>\n",
       "    <tr>\n",
       "      <th>36581</th>\n",
       "      <td>burger king unveils new low-fat cashier</td>\n",
       "      <td>39</td>\n",
       "      <td>6</td>\n",
       "      <td>5.571429</td>\n",
       "    </tr>\n",
       "    <tr>\n",
       "      <th>42039</th>\n",
       "      <td>argument about capital of australia occurs 10 feet from encyclopedia</td>\n",
       "      <td>68</td>\n",
       "      <td>10</td>\n",
       "      <td>6.181818</td>\n",
       "    </tr>\n",
       "  </tbody>\n",
       "</table>\n",
       "</div>"
      ],
      "text/plain": [
       "                                                                   headline  \\\n",
       "22779                   google introduces a new way to screen telemarketers   \n",
       "39644                              the true meaning of the ray rice scandal   \n",
       "423                        a christmas message to vice president mike pence   \n",
       "36581                               burger king unveils new low-fat cashier   \n",
       "42039  argument about capital of australia occurs 10 feet from encyclopedia   \n",
       "\n",
       "       char_count  word_count  word_density  \n",
       "22779          51           8      5.666667  \n",
       "39644          40           8      4.444444  \n",
       "423            48           8      5.333333  \n",
       "36581          39           6      5.571429  \n",
       "42039          68          10      6.181818  "
      ]
     },
     "execution_count": 9,
     "metadata": {},
     "output_type": "execute_result"
    }
   ],
   "source": [
    "X_train.head()"
   ]
  },
  {
   "cell_type": "code",
   "execution_count": 10,
   "id": "d55181b5-059f-46e7-a9e3-9380b74883ea",
   "metadata": {},
   "outputs": [
    {
     "name": "stderr",
     "output_type": "stream",
     "text": [
      "/Users/gbaldonado/opt/anaconda3/envs/dphi_bootcamp_nlp/lib/python3.7/site-packages/sklearn/linear_model/least_angle.py:35: DeprecationWarning: `np.float` is a deprecated alias for the builtin `float`. To silence this warning, use `float` by itself. Doing this will not modify any behavior and is safe. If you specifically wanted the numpy scalar type, use `np.float64` here.\n",
      "Deprecated in NumPy 1.20; for more details and guidance: https://numpy.org/devdocs/release/1.20.0-notes.html#deprecations\n",
      "  eps=np.finfo(np.float).eps,\n",
      "/Users/gbaldonado/opt/anaconda3/envs/dphi_bootcamp_nlp/lib/python3.7/site-packages/sklearn/linear_model/least_angle.py:597: DeprecationWarning: `np.float` is a deprecated alias for the builtin `float`. To silence this warning, use `float` by itself. Doing this will not modify any behavior and is safe. If you specifically wanted the numpy scalar type, use `np.float64` here.\n",
      "Deprecated in NumPy 1.20; for more details and guidance: https://numpy.org/devdocs/release/1.20.0-notes.html#deprecations\n",
      "  eps=np.finfo(np.float).eps, copy_X=True, fit_path=True,\n",
      "/Users/gbaldonado/opt/anaconda3/envs/dphi_bootcamp_nlp/lib/python3.7/site-packages/sklearn/linear_model/least_angle.py:836: DeprecationWarning: `np.float` is a deprecated alias for the builtin `float`. To silence this warning, use `float` by itself. Doing this will not modify any behavior and is safe. If you specifically wanted the numpy scalar type, use `np.float64` here.\n",
      "Deprecated in NumPy 1.20; for more details and guidance: https://numpy.org/devdocs/release/1.20.0-notes.html#deprecations\n",
      "  eps=np.finfo(np.float).eps, copy_X=True, fit_path=True,\n",
      "/Users/gbaldonado/opt/anaconda3/envs/dphi_bootcamp_nlp/lib/python3.7/site-packages/sklearn/linear_model/least_angle.py:862: DeprecationWarning: `np.float` is a deprecated alias for the builtin `float`. To silence this warning, use `float` by itself. Doing this will not modify any behavior and is safe. If you specifically wanted the numpy scalar type, use `np.float64` here.\n",
      "Deprecated in NumPy 1.20; for more details and guidance: https://numpy.org/devdocs/release/1.20.0-notes.html#deprecations\n",
      "  eps=np.finfo(np.float).eps, positive=False):\n",
      "/Users/gbaldonado/opt/anaconda3/envs/dphi_bootcamp_nlp/lib/python3.7/site-packages/sklearn/linear_model/least_angle.py:1097: DeprecationWarning: `np.float` is a deprecated alias for the builtin `float`. To silence this warning, use `float` by itself. Doing this will not modify any behavior and is safe. If you specifically wanted the numpy scalar type, use `np.float64` here.\n",
      "Deprecated in NumPy 1.20; for more details and guidance: https://numpy.org/devdocs/release/1.20.0-notes.html#deprecations\n",
      "  max_n_alphas=1000, n_jobs=None, eps=np.finfo(np.float).eps,\n",
      "/Users/gbaldonado/opt/anaconda3/envs/dphi_bootcamp_nlp/lib/python3.7/site-packages/sklearn/linear_model/least_angle.py:1344: DeprecationWarning: `np.float` is a deprecated alias for the builtin `float`. To silence this warning, use `float` by itself. Doing this will not modify any behavior and is safe. If you specifically wanted the numpy scalar type, use `np.float64` here.\n",
      "Deprecated in NumPy 1.20; for more details and guidance: https://numpy.org/devdocs/release/1.20.0-notes.html#deprecations\n",
      "  max_n_alphas=1000, n_jobs=None, eps=np.finfo(np.float).eps,\n",
      "/Users/gbaldonado/opt/anaconda3/envs/dphi_bootcamp_nlp/lib/python3.7/site-packages/sklearn/linear_model/least_angle.py:1480: DeprecationWarning: `np.float` is a deprecated alias for the builtin `float`. To silence this warning, use `float` by itself. Doing this will not modify any behavior and is safe. If you specifically wanted the numpy scalar type, use `np.float64` here.\n",
      "Deprecated in NumPy 1.20; for more details and guidance: https://numpy.org/devdocs/release/1.20.0-notes.html#deprecations\n",
      "  eps=np.finfo(np.float).eps, copy_X=True, positive=False):\n",
      "/Users/gbaldonado/opt/anaconda3/envs/dphi_bootcamp_nlp/lib/python3.7/site-packages/sklearn/linear_model/randomized_l1.py:152: DeprecationWarning: `np.float` is a deprecated alias for the builtin `float`. To silence this warning, use `float` by itself. Doing this will not modify any behavior and is safe. If you specifically wanted the numpy scalar type, use `np.float64` here.\n",
      "Deprecated in NumPy 1.20; for more details and guidance: https://numpy.org/devdocs/release/1.20.0-notes.html#deprecations\n",
      "  precompute=False, eps=np.finfo(np.float).eps,\n",
      "/Users/gbaldonado/opt/anaconda3/envs/dphi_bootcamp_nlp/lib/python3.7/site-packages/sklearn/linear_model/randomized_l1.py:320: DeprecationWarning: `np.float` is a deprecated alias for the builtin `float`. To silence this warning, use `float` by itself. Doing this will not modify any behavior and is safe. If you specifically wanted the numpy scalar type, use `np.float64` here.\n",
      "Deprecated in NumPy 1.20; for more details and guidance: https://numpy.org/devdocs/release/1.20.0-notes.html#deprecations\n",
      "  eps=np.finfo(np.float).eps, random_state=None,\n",
      "/Users/gbaldonado/opt/anaconda3/envs/dphi_bootcamp_nlp/lib/python3.7/site-packages/sklearn/linear_model/randomized_l1.py:580: DeprecationWarning: `np.float` is a deprecated alias for the builtin `float`. To silence this warning, use `float` by itself. Doing this will not modify any behavior and is safe. If you specifically wanted the numpy scalar type, use `np.float64` here.\n",
      "Deprecated in NumPy 1.20; for more details and guidance: https://numpy.org/devdocs/release/1.20.0-notes.html#deprecations\n",
      "  eps=4 * np.finfo(np.float).eps, n_jobs=None,\n"
     ]
    }
   ],
   "source": [
    "from sklearn.linear_model import LogisticRegression\n",
    "\n",
    "lr = LogisticRegression(random_state=42, solver='liblinear')"
   ]
  },
  {
   "cell_type": "code",
   "execution_count": 11,
   "id": "ba6e0536-5e60-4f45-b776-62c4d0a9f9ac",
   "metadata": {},
   "outputs": [
    {
     "name": "stderr",
     "output_type": "stream",
     "text": [
      "/Users/gbaldonado/opt/anaconda3/envs/dphi_bootcamp_nlp/lib/python3.7/site-packages/sklearn/linear_model/base.py:283: DeprecationWarning: `np.int` is a deprecated alias for the builtin `int`. To silence this warning, use `int` by itself. Doing this will not modify any behavior and is safe. When replacing `np.int`, you may wish to use e.g. `np.int64` or `np.int32` to specify the precision. If you wish to review your current use, check the release note link for additional information.\n",
      "Deprecated in NumPy 1.20; for more details and guidance: https://numpy.org/devdocs/release/1.20.0-notes.html#deprecations\n",
      "  indices = (scores > 0).astype(np.int)\n"
     ]
    }
   ],
   "source": [
    "lr.fit(X_train.drop(['headline'], axis=1), y_train)\n",
    "predictions = lr.predict(X_test.drop(['headline'], axis=1))"
   ]
  },
  {
   "cell_type": "code",
   "execution_count": 12,
   "id": "ef4a6abf-96dd-4abc-a921-a75ac44cd0f8",
   "metadata": {},
   "outputs": [
    {
     "name": "stdout",
     "output_type": "stream",
     "text": [
      "              precision    recall  f1-score   support\n",
      "\n",
      "           0       0.58      0.75      0.65      7864\n",
      "           1       0.55      0.36      0.44      6743\n",
      "\n",
      "   micro avg       0.57      0.57      0.57     14607\n",
      "   macro avg       0.57      0.56      0.55     14607\n",
      "weighted avg       0.57      0.57      0.55     14607\n",
      "\n"
     ]
    }
   ],
   "source": [
    "from sklearn import metrics\n",
    "\n",
    "print(metrics.classification_report(y_test, predictions))"
   ]
  },
  {
   "cell_type": "code",
   "execution_count": 13,
   "id": "b315e9ec-7da2-48a8-8bb6-0ff01743773a",
   "metadata": {},
   "outputs": [
    {
     "name": "stdout",
     "output_type": "stream",
     "text": [
      "[[5878 1986]\n",
      " [4287 2456]]\n"
     ]
    }
   ],
   "source": [
    "print(metrics.confusion_matrix(y_test, predictions))"
   ]
  },
  {
   "cell_type": "code",
   "execution_count": 14,
   "id": "066c5741-f62c-45cc-8449-a6372343bba0",
   "metadata": {},
   "outputs": [
    {
     "name": "stdout",
     "output_type": "stream",
     "text": [
      "0.5705483672211953\n"
     ]
    }
   ],
   "source": [
    "print(metrics.accuracy_score(y_test,predictions))"
   ]
  },
  {
   "cell_type": "code",
   "execution_count": 15,
   "id": "f458af83-1222-4aa9-958a-95c44dac9161",
   "metadata": {},
   "outputs": [
    {
     "data": {
      "text/html": [
       "<div>\n",
       "<style scoped>\n",
       "    .dataframe tbody tr th:only-of-type {\n",
       "        vertical-align: middle;\n",
       "    }\n",
       "\n",
       "    .dataframe tbody tr th {\n",
       "        vertical-align: top;\n",
       "    }\n",
       "\n",
       "    .dataframe thead th {\n",
       "        text-align: right;\n",
       "    }\n",
       "</style>\n",
       "<table border=\"1\" class=\"dataframe\">\n",
       "  <thead>\n",
       "    <tr style=\"text-align: right;\">\n",
       "      <th></th>\n",
       "      <th>0</th>\n",
       "      <th>1</th>\n",
       "    </tr>\n",
       "  </thead>\n",
       "  <tbody>\n",
       "    <tr>\n",
       "      <th>0</th>\n",
       "      <td>5878</td>\n",
       "      <td>1986</td>\n",
       "    </tr>\n",
       "    <tr>\n",
       "      <th>1</th>\n",
       "      <td>4287</td>\n",
       "      <td>2456</td>\n",
       "    </tr>\n",
       "  </tbody>\n",
       "</table>\n",
       "</div>"
      ],
      "text/plain": [
       "      0     1\n",
       "0  5878  1986\n",
       "1  4287  2456"
      ]
     },
     "execution_count": 15,
     "metadata": {},
     "output_type": "execute_result"
    }
   ],
   "source": [
    "df = pd.DataFrame(metrics.confusion_matrix(y_test,predictions), index=['0','1'], columns=['0','1'])\n",
    "df"
   ]
  },
  {
   "cell_type": "markdown",
   "id": "c26eed72-856f-41f7-9238-70a8415f0076",
   "metadata": {},
   "source": [
    "<font color=green>These results are terrible. More non-sarcastic headlines are labeled as sarcastic (4287) than correctly identified as sarcastic (2456), although a relatively small number of sarcastic headlines (1986) were confused as non-sarcastic. Let's try another classifier called Naive Bayes.</font>"
   ]
  },
  {
   "cell_type": "code",
   "execution_count": 16,
   "id": "efb0e39e-f73a-49ca-9b4f-1d43d3248538",
   "metadata": {},
   "outputs": [],
   "source": [
    "from sklearn.naive_bayes import MultinomialNB\n",
    "\n",
    "nb = MultinomialNB()\n",
    "\n",
    "nb.fit(X_train.drop(['headline'], axis=1), y_train)\n",
    "predictions = nb.predict(X_test.drop(['headline'], axis=1))"
   ]
  },
  {
   "cell_type": "code",
   "execution_count": 17,
   "id": "ed816d8c-696b-48cc-a34e-f9f1e41a3757",
   "metadata": {},
   "outputs": [
    {
     "name": "stdout",
     "output_type": "stream",
     "text": [
      "[[7862    2]\n",
      " [6692   51]]\n"
     ]
    }
   ],
   "source": [
    "print(metrics.confusion_matrix(y_test, predictions))"
   ]
  },
  {
   "cell_type": "code",
   "execution_count": 18,
   "id": "72ab4d5b-12e9-412b-a614-1ed8bbd6ddd2",
   "metadata": {},
   "outputs": [
    {
     "name": "stdout",
     "output_type": "stream",
     "text": [
      "              precision    recall  f1-score   support\n",
      "\n",
      "           0       0.54      1.00      0.70      7864\n",
      "           1       0.96      0.01      0.02      6743\n",
      "\n",
      "   micro avg       0.54      0.54      0.54     14607\n",
      "   macro avg       0.75      0.50      0.36     14607\n",
      "weighted avg       0.74      0.54      0.38     14607\n",
      "\n"
     ]
    }
   ],
   "source": [
    "print(metrics.classification_report(y_test, predictions))"
   ]
  },
  {
   "cell_type": "code",
   "execution_count": 19,
   "id": "1b71b030-ec25-4ae7-b762-268bf148c3a8",
   "metadata": {},
   "outputs": [
    {
     "name": "stdout",
     "output_type": "stream",
     "text": [
      "0.541726569453002\n"
     ]
    }
   ],
   "source": [
    "print(metrics.accuracy_score(y_test,predictions))"
   ]
  },
  {
   "cell_type": "markdown",
   "id": "9f7ce555-4430-480d-9a02-20b6a5d2365a",
   "metadata": {},
   "source": [
    "<font color=green>Clearly, the predictions using the naive bayes classifier is worst than the predictions of the logistic regression model. Although more non-sarcastic headlines are correctly predicted (7862), almost none (51) are correctly recognized as sarcastic. The false non-sarcastic headlines shot up to 6692 counts from 4287 from the logistic regression model. Let's try another model from the support vector machine (SVM) classifier.</font>"
   ]
  },
  {
   "cell_type": "code",
   "execution_count": null,
   "id": "146593d0-0621-4ab6-94ea-221fc328202c",
   "metadata": {},
   "outputs": [],
   "source": [
    "from sklearn.svm import SVC\n",
    "svc_model = SVC(gamma=\"auto\")\n",
    "svc_model.fit(X_train.drop(['headline'], axis=1), y_train)"
   ]
  },
  {
   "cell_type": "code",
   "execution_count": null,
   "id": "b7ecdbd3-e16d-4f28-b216-5160bf36787e",
   "metadata": {},
   "outputs": [],
   "source": [
    "predictions = svc_model.predict(X_test.drop(['headline'], axis=1))"
   ]
  },
  {
   "cell_type": "code",
   "execution_count": null,
   "id": "cfd06bd8-15ec-465b-bcc9-85c4c7924257",
   "metadata": {},
   "outputs": [],
   "source": [
    "print(metrics.confusion_matrix(y_test, predictions))"
   ]
  },
  {
   "cell_type": "code",
   "execution_count": null,
   "id": "9396e40c-27e6-4747-8f4b-fe34367ee05a",
   "metadata": {},
   "outputs": [],
   "source": [
    "print(metrics.classification_report(y_test, predictions))"
   ]
  },
  {
   "cell_type": "code",
   "execution_count": null,
   "id": "7f554fe8-1c32-4f8b-b68e-982c4d1ad77a",
   "metadata": {},
   "outputs": [],
   "source": [
    "print(metrics.accuracy_score(y_test,predictions))"
   ]
  },
  {
   "cell_type": "markdown",
   "id": "fdbf54ab-b4ab-4fb2-832f-379d1fd7fed3",
   "metadata": {},
   "source": [
    "<font color=green>The SVC model performs the best compared to the logistic regression and naive bayes models. We will aggregate the results from this model to the results of sentiment analysis to get a better predictions</font>"
   ]
  },
  {
   "cell_type": "markdown",
   "id": "f5d9fd37-9e20-475d-aa36-e76c541bd899",
   "metadata": {},
   "source": [
    "## Text Pre-Processing and Wrangling"
   ]
  },
  {
   "cell_type": "code",
   "execution_count": null,
   "id": "b8011fa5-2848-44c2-9983-937b0ec534a6",
   "metadata": {},
   "outputs": [],
   "source": [
    "import nltk\n",
    "nltk.download('punkt')\n",
    "nltk.download('stopwords')"
   ]
  },
  {
   "cell_type": "code",
   "execution_count": null,
   "id": "ce696abf-e39d-4904-86ad-e2248d777d1d",
   "metadata": {},
   "outputs": [],
   "source": [
    "import contractions\n",
    "import re\n",
    "\n",
    "stop_words = nltk.corpus.stopwords.words('english')\n",
    "\n",
    "def normalize_doc(doc):\n",
    "    # lower case and remove special characters\\whitespaces\n",
    "    doc = re.sub(r'[^a-zA-Z\\s]', '', doc, re.I|re.A)\n",
    "    doc = doc.lower()\n",
    "    doc = doc.strip()\n",
    "    # tokenize document\n",
    "    tokens = nltk.word_tokenize(doc)\n",
    "    # filter stopwords out of document\n",
    "    filtered_tokens = [token for token in tokens if token not in stop_words]\n",
    "    # re-create document from filtered tokens\n",
    "    doc = ' '.join(filtered_tokens)\n",
    "    return doc\n",
    "\n",
    "normalize_corpus = np.vectorize(normalize_doc)"
   ]
  },
  {
   "cell_type": "code",
   "execution_count": null,
   "id": "cdee9240-21f2-48cc-a4ad-e390f40ae4d3",
   "metadata": {},
   "outputs": [],
   "source": []
  },
  {
   "cell_type": "code",
   "execution_count": null,
   "id": "8d2d90f6-12fc-4093-88ec-645c2fd74aab",
   "metadata": {},
   "outputs": [],
   "source": [
    "X_train['clean headline'] = normalize_corpus(X_train['headline'].values)\n",
    "X_test['clean headline'] = normalize_corpus(X_test['headline'].values)"
   ]
  },
  {
   "cell_type": "code",
   "execution_count": null,
   "id": "5fee714e-9e6f-4c8d-a1b4-66dc333e34fd",
   "metadata": {},
   "outputs": [],
   "source": [
    "X_train.reset_index(drop=True, inplace=True)\n",
    "X_train"
   ]
  },
  {
   "cell_type": "code",
   "execution_count": null,
   "id": "b73dce5e-d737-440c-be47-24a50b25c77d",
   "metadata": {},
   "outputs": [],
   "source": [
    "from sklearn.pipeline import Pipeline\n",
    "from sklearn.feature_extraction.text import TfidfVectorizer\n",
    "from sklearn.svm import LinearSVC\n",
    "\n",
    "text_clf = Pipeline([('tfidf', TfidfVectorizer()),\n",
    "                     ('clf', LinearSVC()),\n",
    "])\n",
    "\n",
    "# Feed the training data through the pipeline\n",
    "text_clf.fit(X_train['headline'], y_train)  "
   ]
  },
  {
   "cell_type": "code",
   "execution_count": null,
   "id": "ec325206-4a91-4c50-b2a0-37743ed080ac",
   "metadata": {},
   "outputs": [],
   "source": [
    "from sklearn import metrics"
   ]
  },
  {
   "cell_type": "code",
   "execution_count": null,
   "id": "506bc6f6-7458-4c36-b75c-6ce605c06973",
   "metadata": {},
   "outputs": [],
   "source": [
    "predictions = text_clf.predict(X_test['headline'])"
   ]
  },
  {
   "cell_type": "code",
   "execution_count": null,
   "id": "2c1b7843-770a-4266-8e09-79ca41708e7e",
   "metadata": {},
   "outputs": [],
   "source": [
    "print(metrics.classification_report(y_test, predictions))"
   ]
  },
  {
   "cell_type": "code",
   "execution_count": null,
   "id": "dfe81642-2c77-461d-bec8-f34744d236d4",
   "metadata": {},
   "outputs": [],
   "source": [
    "print(metrics.confusion_matrix(y_test, predictions))"
   ]
  },
  {
   "cell_type": "code",
   "execution_count": null,
   "id": "419f7cf8-d846-471c-b646-82357dd3b8f4",
   "metadata": {},
   "outputs": [],
   "source": [
    "print(metrics.classification_report(y_test,predictions))"
   ]
  },
  {
   "cell_type": "code",
   "execution_count": null,
   "id": "aa89435e-fc71-469a-841a-83080bd50c66",
   "metadata": {},
   "outputs": [],
   "source": [
    "results = text_clf.predict(test_set['headline'])"
   ]
  },
  {
   "cell_type": "code",
   "execution_count": null,
   "id": "562257a3-3d37-4ec0-b02a-30b8a86b44f6",
   "metadata": {},
   "outputs": [],
   "source": [
    "test_set['predicted sarcasm'] = results"
   ]
  },
  {
   "cell_type": "code",
   "execution_count": null,
   "id": "826d8df5-f7e4-48cb-bb5f-ec39e1591aec",
   "metadata": {},
   "outputs": [],
   "source": [
    "test_set"
   ]
  },
  {
   "cell_type": "code",
   "execution_count": null,
   "id": "f24d035d-abc3-4e7e-9569-e283e0b17442",
   "metadata": {},
   "outputs": [],
   "source": []
  },
  {
   "cell_type": "code",
   "execution_count": null,
   "id": "63ceac29-7bda-4205-aa9e-6d762c87a20f",
   "metadata": {},
   "outputs": [],
   "source": []
  },
  {
   "cell_type": "code",
   "execution_count": null,
   "id": "67bda5bd-81e8-4eea-b018-7a0129d59ed0",
   "metadata": {},
   "outputs": [],
   "source": []
  }
 ],
 "metadata": {
  "kernelspec": {
   "display_name": "Python 3 (ipykernel)",
   "language": "python",
   "name": "python3"
  },
  "language_info": {
   "codemirror_mode": {
    "name": "ipython",
    "version": 3
   },
   "file_extension": ".py",
   "mimetype": "text/x-python",
   "name": "python",
   "nbconvert_exporter": "python",
   "pygments_lexer": "ipython3",
   "version": "3.7.11"
  }
 },
 "nbformat": 4,
 "nbformat_minor": 5
}
